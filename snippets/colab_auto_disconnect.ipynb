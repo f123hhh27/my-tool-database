# -*- coding: utf-8 -*-
"""
Created on Thu Sep 25 02:23:29 2025

@author: f123h
"""

# 範例：自動存檔 + 自動斷線
import pandas as pd
import datetime
import time
from IPython.display import Javascript

# 假設這是你的實驗結果
results = [
    {"model": "xgb", "f1": 0.85, "auroc": 0.92},
    {"model": "random_forest", "f1": 0.83, "auroc": 0.90},
    {"model": "adaboost", "f1": 0.78, "auroc": 0.88},
]

# 轉成 DataFrame
results_df = pd.DataFrame(results)

# 自動生成檔名（包含時間戳）
timestamp = datetime.datetime.now().strftime("%Y%m%d_%H%M%S")
filename = f"/content/drive/MyDrive/experiment_results_{timestamp}.csv"

# 存成 CSV
results_df.to_csv(filename, index=False, encoding="utf-8-sig")
print(f"✅ 實驗結果已儲存到 {filename}")

# 等待 5 秒，確保寫檔完成
time.sleep(5)

# 自動斷開 Colab 連線
display(Javascript('google.colab.kernel.disconnect()'))